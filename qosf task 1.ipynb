{
 "cells": [
  {
   "cell_type": "code",
   "execution_count": null,
   "id": "7d8f4d28",
   "metadata": {},
   "outputs": [],
   "source": [
    "from qiskit import QuantumRegister, ClassicalRegister, QuantumCircuit, execute,IBMQ\n",
    "import math\n",
    "from qiskit.tools.monitor import job_monitor\n",
    "\n",
    "IBMQ.enable_account('Enter API token')\n",
    "provider = IBMQ.get_provider(hub='ibm-q')"
   ]
  },
  {
   "cell_type": "code",
   "execution_count": null,
   "id": "63e02c57",
   "metadata": {},
   "outputs": [],
   "source": [
    "number_1 = 7\n",
    "list_of_primes = [1,2,3,5,7]\n",
    "number_of_qubits = int(math.ceil(math.log2(number_1+1)))\n",
    "print(number_of_qubits)\n"
   ]
  },
  {
   "cell_type": "code",
   "execution_count": null,
   "id": "28c4ed2b",
   "metadata": {},
   "outputs": [],
   "source": [
    "def find_the_primes_numbers(number_1, list_of_primes):\n",
    "    for i in range(len(list_of_primes)):\n",
    "        target = number_1- list_of_primes[i]\n",
    "    return target"
   ]
  },
  {
   "cell_type": "code",
   "execution_count": null,
   "id": "767f2236",
   "metadata": {},
   "outputs": [],
   "source": [
    "#grover_circuit\n",
    "\n",
    "from qiskit import QuantumRegister, ClassicalRegister, QuantumCircuit, execute,IBMQ\n",
    "import math\n",
    "from qiskit.tools.monitor import job_monitor\n",
    "\n",
    "\n",
    "        \n",
    "pi = math.pi\n",
    "q = QuantumRegister(number_of_qubits,'q')\n",
    "c = ClassicalRegister(number_of_qubits,'c')\n",
    "qc = QuantumCircuit(q,c)"
   ]
  },
  {
   "cell_type": "code",
   "execution_count": null,
   "id": "c8e67a3c",
   "metadata": {},
   "outputs": [],
   "source": [
    "for i in range(number_of_qubits):\n",
    "    qc.h(q[i])\n",
    "print(qc)"
   ]
  },
  {
   "cell_type": "code",
   "execution_count": null,
   "id": "b67041c7",
   "metadata": {},
   "outputs": [],
   "source": [
    "# oracle\n",
    "# does the task of assigning overall( or global) phase to the system making |000> to -|000>\n",
    "for i in range(number_of_qubits):\n",
    "    qc.x(q[i])\n",
    "qc.ccz(q[0],q[1],q[2])\n",
    "for i in range(number_of_qubits):\n",
    "    qc.x(q[i])\n"
   ]
  },
  {
   "cell_type": "code",
   "execution_count": null,
   "id": "70220792",
   "metadata": {},
   "outputs": [],
   "source": [
    "for i in range(number_of_qubits):\n",
    "    qc.h(q[i])\n",
    "for i in range(number_of_qubits):\n",
    "    qc.x(q[i])\n",
    "qc.ccz(q[0],q[1],q[2])\n",
    "\n",
    "for i in range(number_of_qubits):\n",
    "    qc.x(q[i])\n",
    "for i in range(number_of_qubits):\n",
    "    qc.h(q[i])\n",
    "qc.draw()"
   ]
  },
  {
   "cell_type": "code",
   "execution_count": null,
   "id": "4104365f",
   "metadata": {},
   "outputs": [],
   "source": [
    "qc.measure(q[0], c[0])\n",
    "qc.measure(q[1], c[1])\n",
    "qc.measure(q[2], c[2])"
   ]
  },
  {
   "cell_type": "code",
   "execution_count": null,
   "id": "b3727d35",
   "metadata": {},
   "outputs": [],
   "source": [
    "simulator = Aer.get_backend('qasm_simulator')\n",
    "   \n",
    "\n",
    "job = execute(qc, simulator, shots=1000)\n",
    "   \n",
    "\n",
    "result = job.result()\n",
    "   \n",
    "\n",
    "counts = result.get_counts(qc)\n",
    "\n",
    "print(counts)"
   ]
  }
 ],
 "metadata": {
  "kernelspec": {
   "display_name": "Python 3",
   "language": "python",
   "name": "python3"
  },
  "language_info": {
   "codemirror_mode": {
    "name": "ipython",
    "version": 3
   },
   "file_extension": ".py",
   "mimetype": "text/x-python",
   "name": "python",
   "nbconvert_exporter": "python",
   "pygments_lexer": "ipython3",
   "version": "3.8.8"
  }
 },
 "nbformat": 4,
 "nbformat_minor": 5
}
