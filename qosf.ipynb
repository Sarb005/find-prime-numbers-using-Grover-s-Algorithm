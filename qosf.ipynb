{
  "nbformat": 4,
  "nbformat_minor": 0,
  "metadata": {
    "colab": {
      "provenance": []
    },
    "kernelspec": {
      "name": "python3",
      "display_name": "Python 3"
    },
    "language_info": {
      "name": "python"
    }
  },
  "cells": [
    {
      "cell_type": "markdown",
      "source": [
        "# **Defining the problem statement**\n",
        "***Problem:*** Given a positive integer and an list of prime numbers, look for the two prime numbers, that sum the positive number.\n",
        "\n",
        "***Solution:*** Now let's try to understand the question and look for quantum solution with example. Assume the values given in the following cells are an example case."
      ],
      "metadata": {
        "id": "oiOQ0KvK8IL1"
      }
    },
    {
      "cell_type": "code",
      "source": [
        "number_1 = 7\n",
        "list_of_primes = [1,2,3,5]\n",
        "\n"
      ],
      "metadata": {
        "id": "LJy5gMzS8PL9"
      },
      "execution_count": 3,
      "outputs": []
    },
    {
      "cell_type": "markdown",
      "source": [
        "# **Classical Way**\n",
        "Now classically the algorithm will first select the first element of the array, i.e. 1(here) and then look for the other number which will sum to number_1. If no number adds upto to number_1 with first array element then this process repeats for the next array element till we get the required pair.  It can be thought in another way that after selecting the first number from the array, the algorithm looks for the **number equal** to the **difference between number_1 and selected array element.**\n",
        "\n",
        "This is something which we call as **database search**, which in classical methods take **O(n)** time.\n",
        "\n",
        "For this database search problem we have a quantum algorithm called Grover's search algorihtm which shows quadratic speedup for this problem."
      ],
      "metadata": {
        "id": "6xYC6Ih3Zn83"
      }
    },
    {
      "cell_type": "markdown",
      "source": [
        "# **Qubit Requirement**\n",
        "Before we jump into grover's algorithm, first let's us decide upon the number of qubits we will be requiring. We will require qubits to represent numbers into binary form. As we have non-negative numbers then the following code can be used to get minimum number of qubits."
      ],
      "metadata": {
        "id": "jHpSLZ5tdM0m"
      }
    },
    {
      "cell_type": "code",
      "source": [
        "import math\n",
        "number_of_qubits = int(math.ceil(math.log2(number_1+1))) # By running this line of code we will get the minimum no. of qubits required to for our circuit( to represent numbers in binary)\n",
        "print(number_of_qubits)\n"
      ],
      "metadata": {
        "colab": {
          "base_uri": "https://localhost:8080/"
        },
        "id": "ZsLG4_DaZBDo",
        "outputId": "b7d9409e-b973-40b0-d85d-e6f75f5460d5"
      },
      "execution_count": 22,
      "outputs": [
        {
          "output_type": "stream",
          "name": "stdout",
          "text": [
            "3\n"
          ]
        }
      ]
    },
    {
      "cell_type": "markdown",
      "source": [
        "# **Grover Search Algorithm**\n",
        "Grover's Algorithm is a very famous database search algorithm which provides quantum speed-up. It can solve a problem in O(√n) as compared to O(n) in case of the classical algorithms, thus providing quadratic speedup.\n",
        "\n",
        "In the following cells we will see how the procedure of Grover's Algorithm works."
      ],
      "metadata": {
        "id": "T6w4uGpfH9Zd"
      }
    },
    {
      "cell_type": "markdown",
      "source": [
        "# **Importing standard libraries and loading IBMQ ID**"
      ],
      "metadata": {
        "id": "Zziylb5K9WHl"
      }
    },
    {
      "cell_type": "code",
      "execution_count": null,
      "metadata": {
        "id": "z2Xwdek98E9y"
      },
      "outputs": [],
      "source": [
        "from qiskit import QuantumRegister, ClassicalRegister, QuantumCircuit, execute,IBMQ\n",
        "import math\n",
        "from qiskit.tools.monitor import job_monitor\n",
        "\n",
        "IBMQ.enable_account('Enter API token') # This line of code is used to run your circuit outside the qiskit environment\n",
        "provider = IBMQ.get_provider(hub='ibm-q')"
      ]
    },
    {
      "cell_type": "markdown",
      "source": [
        "# **Inistialising the Circuit**"
      ],
      "metadata": {
        "id": "rRSeCIbrX8Mp"
      }
    },
    {
      "cell_type": "code",
      "source": [
        "pi = math.pi\n",
        "q = QuantumRegister(number_of_qubits,'q')    # quantum register for performing operations\n",
        "c = ClassicalRegister(number_of_qubits,'c')  # classcial register to do measurements\n",
        "qc = QuantumCircuit(q,c)"
      ],
      "metadata": {
        "id": "cyGz8oiL8UT4"
      },
      "execution_count": null,
      "outputs": []
    },
    {
      "cell_type": "markdown",
      "source": [
        "# **Creating Superposition**\n",
        "Creation of superposition is a fundamental step in all the quantum algorithms. This is because superposition is one of the properties in quantum  mechanics which makes quantum computing standout."
      ],
      "metadata": {
        "id": "1LD4C8QqH_e2"
      }
    },
    {
      "cell_type": "code",
      "source": [
        "for i in range(number_of_qubits):\n",
        "    qc.h(q[i])\n",
        "print(qc)"
      ],
      "metadata": {
        "id": "F_GV9bUi8XVp"
      },
      "execution_count": null,
      "outputs": []
    },
    {
      "cell_type": "markdown",
      "source": [
        "# **Oracle**\n",
        "***Define:*** Oracle can be thought of as a blackbox which does the task of assigning overall( or global) phase to the system making |000> to -|000>.\n",
        "\n",
        "\n",
        "\n",
        "\n",
        "***Ques:*** Why is this done?\n",
        "\n",
        "***Ans:*** This is done to mark our target state(s). This is an important step as later on this marked state(s) will be amplified by the diffusor, thus returning the required state(s).\n"
      ],
      "metadata": {
        "id": "JX8wrRH6-Ab8"
      }
    },
    {
      "cell_type": "code",
      "source": [
        "# implementing for marked state |000>\n",
        "for i in range(number_of_qubits):   # applying x gate to flip all the qubits\n",
        "    qc.x(q[i])\n",
        "qc.ccz(q[0],q[1],q[2])              # applying CCZ gate which will add the overall phase\n",
        "for i in range(number_of_qubits):   # applying x gate to flip all the qubits\n",
        "    qc.x(q[i])"
      ],
      "metadata": {
        "id": "EhS35q108dlL"
      },
      "execution_count": null,
      "outputs": []
    },
    {
      "cell_type": "markdown",
      "source": [
        "# **Diffuser**\n",
        "Define: It does the task of amplifying the marked state(s) and as the intensity (square of amplitude) is conserved, the unmarked states will face a reduction in their amplitude.\n",
        "\n",
        "At the end we will find that the marked state(|000>) has the probability of 1 and rest others have probability equal to zero."
      ],
      "metadata": {
        "id": "qCu7GZxoBtGG"
      }
    },
    {
      "cell_type": "code",
      "source": [
        "for i in range(number_of_qubits):          # applying Hadamard gate to all the qubits\n",
        "    qc.h(q[i])\n",
        "for i in range(number_of_qubits):          # applying x gate to flip all the qubits\n",
        "    qc.x(q[i])\n",
        "qc.ccz(q[0],q[1],q[2])                     # applying CCZ gate with 1st and 2nd qubit as control and 3rd qubit as target\n",
        "\n",
        "for i in range(number_of_qubits):          # applying x gate to flip all the qubits\n",
        "    qc.x(q[i])\n",
        "for i in range(number_of_qubits):          # applying Hadamard gate to all the qubits\n",
        "    qc.h(q[i])\n",
        "qc.draw()"
      ],
      "metadata": {
        "id": "vAbzjNHZ8gUR"
      },
      "execution_count": null,
      "outputs": []
    },
    {
      "cell_type": "markdown",
      "source": [
        "# **Measuring the Qubits**"
      ],
      "metadata": {
        "id": "Mo9Lr1ZuB9Sv"
      }
    },
    {
      "cell_type": "code",
      "source": [
        "qc.measure(q[0], c[0])\n",
        "qc.measure(q[1], c[1])\n",
        "qc.measure(q[2], c[2])"
      ],
      "metadata": {
        "id": "cR1Jss9r8jUW"
      },
      "execution_count": null,
      "outputs": []
    },
    {
      "cell_type": "markdown",
      "source": [
        "# **Running the results on Qasm Simulator**"
      ],
      "metadata": {
        "id": "8YjoTvgnCFKQ"
      }
    },
    {
      "cell_type": "code",
      "source": [
        "simulator = Aer.get_backend('qasm_simulator')      # Class Aer is used to call the simulators in qiskit\n",
        "\n",
        "\n",
        "job = execute(qc, simulator, shots=1000)\n",
        "\n",
        "\n",
        "result = job.result()\n",
        "\n",
        "\n",
        "counts = result.get_counts(qc)\n",
        "\n",
        "print(counts)"
      ],
      "metadata": {
        "id": "5lzkbkUF8l2Z"
      },
      "execution_count": null,
      "outputs": []
    },
    {
      "cell_type": "markdown",
      "source": [
        "# **Final Comments and Solution**\n",
        "Now we understand to implement the Grover Algorithm, we have to first make oracle and diffuser first. But Oracle and diffusor, both have to be customized to the particular target state. Thus here can't define them seperately as it will take many blocks of code.\n",
        "\n",
        "In the following cell I have elemented the solution using the classical way and commented out the different steps for the quantum part for parallel comparison."
      ],
      "metadata": {
        "id": "ncCGPfHcgWo0"
      }
    },
    {
      "cell_type": "code",
      "source": [
        "def find_the_primes_numbers(number_1, list_of_primes):\n",
        "    for i in range(len(list_of_primes)):\n",
        "        target = number_1- list_of_primes[i]\n",
        "        if list_of_primes[i+1] ==  target :            # for quantum target can be replaced with the target state\n",
        "          print(list_of_primes[i+1],list_of_primes[i])\n",
        "        else:\n",
        "          target = 0\n",
        "    return\n",
        "\n",
        ""
      ],
      "metadata": {
        "id": "ZTyIOgUo8Rps"
      },
      "execution_count": 20,
      "outputs": []
    }
  ]
}